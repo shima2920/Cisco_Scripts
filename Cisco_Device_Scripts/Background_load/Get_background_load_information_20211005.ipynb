{
 "cells": [
  {
   "cell_type": "code",
   "execution_count": 1,
   "metadata": {},
   "outputs": [],
   "source": [
    "#Import libraly\n",
    "import telnetlib\n",
    "import datetime\n",
    "import time\n",
    "import csv\n",
    "import pandas as pd\n",
    "import os"
   ]
  },
  {
   "cell_type": "code",
   "execution_count": 2,
   "metadata": {},
   "outputs": [],
   "source": [
    "#Specify the command that you want to get \n",
    "commands = [\"show version\", \"show run | i line\"]\n",
    "#Specify IP address of the target device\n",
    "hosts = [\"10.71.245.63\"]\n",
    "result = []"
   ]
  },
  {
   "cell_type": "code",
   "execution_count": 19,
   "metadata": {},
   "outputs": [
    {
     "name": "stdout",
     "output_type": "stream",
     "text": [
      "########Command : show version #########\n",
      "show version\n",
      "Tue Oct  5 17:04:37.184 JST\n",
      "\n",
      "Cisco IOS XR Software, Version 6.2.2\n",
      "Copyright (c) 2013-2017 by Cisco Systems, Inc.\n",
      "\n",
      "Build Information:\n",
      " Built By     : ahoang\n",
      " Built On     : Tue Jul 11 16:09:48 PDT 2017\n",
      " Build Host   : iox-ucs-030\n",
      " Workspace    : /auto/srcarchive13/production/6.2.2/ncs6k/workspace\n",
      " Version      : 6.2.2\n",
      " Location     : /opt/cisco/XR/packages/\n",
      "\n",
      "cisco NCS-6000 () processor \n",
      "System uptime is 12 weeks, 5 days, 21 hours, 54 minutes\n",
      "\n",
      "RP/0/RP0/CPU0:oteACS001#\n",
      "########Command : show run | i line #########\n",
      "show run | i line\n",
      "Tue Oct  5 17:04:39.176 JST\n",
      "Building configuration...\n",
      "line default\n",
      "RP/0/RP0/CPU0:oteACS001#\n"
     ]
    }
   ],
   "source": [
    "for command in commands:\n",
    "    for host in hosts:\n",
    "        user = \"ciscocore\"\n",
    "        password = \"ciscocore\"\n",
    "        print(\"########Command : \" + command + \" #########\")\n",
    "        tn = telnetlib.Telnet(host, 23)\n",
    "        tn.read_until(b\"Username: \")\n",
    "        tn.write(user.encode('ascii') + b\"\\n\")\n",
    "        tn.read_until(b\"Password: \")\n",
    "        tn.write(password.encode('ascii') + b\"\\n\")\n",
    "        \n",
    "        \n",
    "        tn.read_until(b\"#\").decode('ascii')\n",
    "        tn.read_until(b\"#\").decode('ascii')\n",
    "        \n",
    "        tn.write(b\"terminal length 0\"  + b'\\n')\n",
    "        tn.read_until(b\"#\").decode('ascii')\n",
    "        tn.write(command.encode('ascii')  + b'\\n')\n",
    "        output = tn.read_until(b\"#\").decode('ascii')\n",
    "        result.append(output)\n",
    "        print(output)"
   ]
  },
  {
   "cell_type": "code",
   "execution_count": 17,
   "metadata": {},
   "outputs": [],
   "source": [
    "df = pd.DataFrame(result)\n",
    "df.to_csv('C:\\\\Users\\\\yshimamu\\\\Desktop\\\\result_get_background_load.csv', index=False)"
   ]
  },
  {
   "cell_type": "code",
   "execution_count": 19,
   "metadata": {},
   "outputs": [
    {
     "data": {
      "text/html": [
       "<div>\n",
       "<style scoped>\n",
       "    .dataframe tbody tr th:only-of-type {\n",
       "        vertical-align: middle;\n",
       "    }\n",
       "\n",
       "    .dataframe tbody tr th {\n",
       "        vertical-align: top;\n",
       "    }\n",
       "\n",
       "    .dataframe thead th {\n",
       "        text-align: right;\n",
       "    }\n",
       "</style>\n",
       "<table border=\"1\" class=\"dataframe\">\n",
       "  <thead>\n",
       "    <tr style=\"text-align: right;\">\n",
       "      <th></th>\n",
       "      <th>0</th>\n",
       "    </tr>\n",
       "  </thead>\n",
       "  <tbody>\n",
       "    <tr>\n",
       "      <td>0</td>\n",
       "      <td>show version\\r\\n\\rFri Oct  1 16:54:19.999 JST\\...</td>\n",
       "    </tr>\n",
       "    <tr>\n",
       "      <td>1</td>\n",
       "      <td>show run | i line\\r\\n\\rFri Oct  1 16:54:21.987...</td>\n",
       "    </tr>\n",
       "  </tbody>\n",
       "</table>\n",
       "</div>"
      ],
      "text/plain": [
       "                                                   0\n",
       "0  show version\\r\\n\\rFri Oct  1 16:54:19.999 JST\\...\n",
       "1  show run | i line\\r\\n\\rFri Oct  1 16:54:21.987..."
      ]
     },
     "execution_count": 19,
     "metadata": {},
     "output_type": "execute_result"
    }
   ],
   "source": [
    "df.head()"
   ]
  },
  {
   "cell_type": "code",
   "execution_count": null,
   "metadata": {},
   "outputs": [],
   "source": []
  }
 ],
 "metadata": {
  "kernelspec": {
   "display_name": "Python 3",
   "language": "python",
   "name": "python3"
  },
  "language_info": {
   "codemirror_mode": {
    "name": "ipython",
    "version": 3
   },
   "file_extension": ".py",
   "mimetype": "text/x-python",
   "name": "python",
   "nbconvert_exporter": "python",
   "pygments_lexer": "ipython3",
   "version": "3.7.3"
  }
 },
 "nbformat": 4,
 "nbformat_minor": 2
}
