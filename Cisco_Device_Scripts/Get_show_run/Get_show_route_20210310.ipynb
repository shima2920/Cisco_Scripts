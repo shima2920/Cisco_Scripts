{
 "cells": [
  {
   "cell_type": "code",
   "execution_count": 1,
   "metadata": {},
   "outputs": [],
   "source": [
    "import telnetlib\n",
    "import datetime\n",
    "import time\n",
    "import csv\n",
    "import pandas as pd\n",
    "import pexpect"
   ]
  },
  {
   "cell_type": "code",
   "execution_count": 3,
   "metadata": {},
   "outputs": [
    {
     "name": "stdout",
     "output_type": "stream",
     "text": [
      "show route 0.0.0.0/0\n",
      "oteACS001#show route 0.0.0.0/0\n",
      "Fri Oct  1 15:27:21.412 JST\n",
      "\n",
      "Routing entry for 0.0.0.0/0\n",
      "  Known via \"static\", distance 1, metric 0 (connected), candidate default path\n",
      "  Installed Aug 26 15:40:45.816 for 5w0d\n",
      "  Routing Descriptor Blocks\n",
      "    directly connected, via Null0\n",
      "      Route metric is 0, Wt is 1\n",
      "  No advertising protos. \n",
      "RP/0/RP0/CPU0:\n",
      "---------------------------------------------------------------------\n",
      "show route 10.0.0.0/8\n",
      "oteACS001#show route 10.0.0.0/8\n",
      "Fri Oct  1 15:27:23.438 JST\n",
      "\n",
      "Routing entry for 10.0.0.0/8\n",
      "  Known via \"static\", distance 100, metric 0 (connected)\n",
      "  Tag 184\n",
      "  Installed Aug 26 15:40:45.815 for 5w0d\n",
      "  Routing Descriptor Blocks\n",
      "    directly connected, via Null0\n",
      "      Route metric is 0, Wt is 1\n",
      "  No advertising protos. \n",
      "RP/0/RP0/CPU0:\n",
      "---------------------------------------------------------------------\n"
     ]
    }
   ],
   "source": [
    "commands = [\"show route 0.0.0.0/0\", \"show route 10.0.0.0/8\"]\n",
    "hosts = [\"10.71.245.63\"]\n",
    "result = []\n",
    "\n",
    "for command in commands:\n",
    "    for host in hosts:\n",
    "        user = \"ciscocore\"\n",
    "        password = \"ciscocore\"\n",
    "        print(command)\n",
    "        tn = telnetlib.Telnet(host, 23)\n",
    "        tn.read_until(b\"Username: \")\n",
    "        tn.write(user.encode('ascii') + b\"\\n\")\n",
    "        tn.read_until(b\"Password: \")\n",
    "        tn.write(password.encode('ascii') + b\"\\n\")\n",
    "    \n",
    "    \n",
    "        tn.write(command.encode('ascii')  + b'\\n')\n",
    "        output_tmp = tn.read_until(b\"/CPU0:\").decode('ascii')\n",
    "        tn.write(command.encode('ascii')  + b'\\n')\n",
    "        output_2 = tn.read_until(b\"/CPU0:\").decode('ascii')\n",
    "        output_2 = tn.read_until(b\"/CPU0:\").decode('ascii')\n",
    "        print(output_2)\n",
    "        result.append(output_2)\n",
    "        print('---------------------------------------------------------------------')\n",
    "        tn.close()"
   ]
  },
  {
   "cell_type": "code",
   "execution_count": 16,
   "metadata": {},
   "outputs": [],
   "source": [
    "df = pd.DataFrame(result)\n",
    "#df.head()\n",
    "df_T = df.T\n",
    "#df_T.head()\n",
    "df_T.to_csv('C:\\\\Users\\\\yshimamu\\\\PycharmProjects\\\\Scraping\\\\show_route.csv', index=False)"
   ]
  },
  {
   "cell_type": "code",
   "execution_count": null,
   "metadata": {},
   "outputs": [],
   "source": []
  },
  {
   "cell_type": "code",
   "execution_count": null,
   "metadata": {},
   "outputs": [],
   "source": []
  }
 ],
 "metadata": {
  "kernelspec": {
   "display_name": "Python 3",
   "language": "python",
   "name": "python3"
  },
  "language_info": {
   "codemirror_mode": {
    "name": "ipython",
    "version": 3
   },
   "file_extension": ".py",
   "mimetype": "text/x-python",
   "name": "python",
   "nbconvert_exporter": "python",
   "pygments_lexer": "ipython3",
   "version": "3.7.3"
  }
 },
 "nbformat": 4,
 "nbformat_minor": 2
}
