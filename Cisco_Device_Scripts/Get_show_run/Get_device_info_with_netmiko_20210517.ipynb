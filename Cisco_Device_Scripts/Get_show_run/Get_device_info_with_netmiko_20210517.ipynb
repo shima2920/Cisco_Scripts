{
 "cells": [
  {
   "cell_type": "code",
   "execution_count": 1,
   "metadata": {},
   "outputs": [
    {
     "name": "stdout",
     "output_type": "stream",
     "text": [
      "Requirement already satisfied: netmiko in c:\\users\\yshimamu\\appdata\\local\\continuum\\anaconda3\\lib\\site-packages (3.4.0)\n",
      "Requirement already satisfied: paramiko>=2.6.0 in c:\\users\\yshimamu\\appdata\\local\\continuum\\anaconda3\\lib\\site-packages (from netmiko) (2.7.2)\n",
      "Requirement already satisfied: ntc-templates in c:\\users\\yshimamu\\appdata\\local\\continuum\\anaconda3\\lib\\site-packages (from netmiko) (2.0.0)\n",
      "Requirement already satisfied: tenacity in c:\\users\\yshimamu\\appdata\\local\\continuum\\anaconda3\\lib\\site-packages (from netmiko) (7.0.0)\n",
      "Requirement already satisfied: pyserial in c:\\users\\yshimamu\\appdata\\local\\continuum\\anaconda3\\lib\\site-packages (from netmiko) (3.5)\n",
      "Requirement already satisfied: scp>=0.13.2 in c:\\users\\yshimamu\\appdata\\local\\continuum\\anaconda3\\lib\\site-packages (from netmiko) (0.13.3)\n",
      "Requirement already satisfied: setuptools>=38.4.0 in c:\\users\\yshimamu\\appdata\\local\\continuum\\anaconda3\\lib\\site-packages (from netmiko) (41.0.1)\n",
      "Requirement already satisfied: pynacl>=1.0.1 in c:\\users\\yshimamu\\appdata\\local\\continuum\\anaconda3\\lib\\site-packages (from paramiko>=2.6.0->netmiko) (1.4.0)\n",
      "Requirement already satisfied: bcrypt>=3.1.3 in c:\\users\\yshimamu\\appdata\\local\\continuum\\anaconda3\\lib\\site-packages (from paramiko>=2.6.0->netmiko) (3.2.0)\n",
      "Requirement already satisfied: cryptography>=2.5 in c:\\users\\yshimamu\\appdata\\local\\continuum\\anaconda3\\lib\\site-packages (from paramiko>=2.6.0->netmiko) (2.7)\n",
      "Requirement already satisfied: six>=1.4.1 in c:\\users\\yshimamu\\appdata\\local\\continuum\\anaconda3\\lib\\site-packages (from bcrypt>=3.1.3->paramiko>=2.6.0->netmiko) (1.12.0)\n",
      "Requirement already satisfied: cffi>=1.1 in c:\\users\\yshimamu\\appdata\\local\\continuum\\anaconda3\\lib\\site-packages (from bcrypt>=3.1.3->paramiko>=2.6.0->netmiko) (1.12.3)\n",
      "Requirement already satisfied: pycparser in c:\\users\\yshimamu\\appdata\\local\\continuum\\anaconda3\\lib\\site-packages (from cffi>=1.1->bcrypt>=3.1.3->paramiko>=2.6.0->netmiko) (2.19)\n",
      "Requirement already satisfied: asn1crypto>=0.21.0 in c:\\users\\yshimamu\\appdata\\local\\continuum\\anaconda3\\lib\\site-packages (from cryptography>=2.5->paramiko>=2.6.0->netmiko) (0.24.0)\n",
      "Requirement already satisfied: textfsm<2.0.0,>=1.1.0 in c:\\users\\yshimamu\\appdata\\local\\continuum\\anaconda3\\lib\\site-packages (from ntc-templates->netmiko) (1.1.0)\n",
      "Requirement already satisfied: future in c:\\users\\yshimamu\\appdata\\local\\continuum\\anaconda3\\lib\\site-packages (from textfsm<2.0.0,>=1.1.0->ntc-templates->netmiko) (0.17.1)\n",
      "Note: you may need to restart the kernel to use updated packages.\n"
     ]
    },
    {
     "name": "stderr",
     "output_type": "stream",
     "text": [
      "WARNING: You are using pip version 21.0.1; however, version 21.2.4 is available.\n",
      "You should consider upgrading via the 'C:\\Users\\yshimamu\\AppData\\Local\\Continuum\\anaconda3\\python.exe -m pip install --upgrade pip' command.\n"
     ]
    }
   ],
   "source": [
    "pip install netmiko"
   ]
  },
  {
   "cell_type": "code",
   "execution_count": 2,
   "metadata": {},
   "outputs": [],
   "source": [
    "#!/usr/bin/env python\n",
    "\n",
    "from netmiko import ConnectHandler\n",
    "import time # used to insert pauses in the script"
   ]
  },
  {
   "cell_type": "code",
   "execution_count": 3,
   "metadata": {},
   "outputs": [],
   "source": [
    "# a list of the hosts we wish to access\n",
    "cisco_ios_xrv = {\n",
    "    'device_type': 'cisco_xr_telnet',\n",
    "    'ip':   '10.71.234.145',\n",
    "    'username': 'ciscocore',\n",
    "    'password': 'ciscocore',\n",
    "    'port' : 23,          # optional, defaults to 22\n",
    "    #'secret': 'secret',     # optional, defaults to ''\n",
    "    'verbose': False,       # optional, defaults to False\n",
    "}\n",
    "\n",
    "# Create a new Paramiko SSH connection object\n",
    "net_connect = ConnectHandler(**cisco_ios_xrv)"
   ]
  },
  {
   "cell_type": "code",
   "execution_count": 4,
   "metadata": {},
   "outputs": [
    {
     "data": {
      "text/plain": [
       "'\\n# Issue commands\\nprint(\"--------------------\",cisco_ios_xrv[\\'ip\\'],\"--------------------\")\\noutput = net_connect.send_command(\\'show run\\')\\nprint(output)\\n'"
      ]
     },
     "execution_count": 4,
     "metadata": {},
     "output_type": "execute_result"
    }
   ],
   "source": [
    "'''\n",
    "# Issue commands\n",
    "print(\"--------------------\",cisco_ios_xrv['ip'],\"--------------------\")\n",
    "output = net_connect.send_command('show run')\n",
    "print(output)\n",
    "'''"
   ]
  },
  {
   "cell_type": "code",
   "execution_count": 6,
   "metadata": {
    "scrolled": true
   },
   "outputs": [
    {
     "name": "stdout",
     "output_type": "stream",
     "text": [
      "Fri Oct  1 15:19:19.603 JST\n",
      "Building configuration...\n",
      "!! IOS XR Configuration 5.3.3\n",
      "!! Last configuration change at Mon Aug 30 12:02:07 2021 by ciscocore\n",
      "!\n",
      "hostname Google\n",
      "clock timezone JST 9\n",
      "logging console informational\n",
      "logging buffered 2097152\n",
      "logging buffered debugging\n",
      "service timestamps log datetime localtime msec show-timezone\n",
      "service timestamps debug datetime localtime msec show-timezone\n",
      "logging events link-status software-interfaces\n",
      "telnet vrf mgmt ipv4 server max-servers 20\n",
      "vrf mgmt\n",
      " address-family ipv4 unicast\n",
      " !\n",
      "!\n",
      "line default\n",
      " timestamp\n",
      " exec-timeout 0 0\n",
      " width 0\n",
      " autocommand terminal monitor\n",
      "!\n",
      "vty-pool default 0 9\n",
      "ipv4 conflict-policy static\n",
      "ipv6 conflict-policy static\n",
      "ntp\n",
      " server vrf mgmt 10.71.165.1\n",
      " update-calendar\n",
      "!\n",
      "interface Bundle-Ether13\n",
      " description oteIXN001\n",
      " ipv4 address 72.14.208.177 255.255.255.252\n",
      " ipv6 nd suppress-ra\n",
      " ipv6 address 2001:4860:1:1:0:1:0:b4/127\n",
      " logging events link-status\n",
      "!\n",
      "interface Loopback0\n",
      " ipv4 address 2.2.2.2 255.255.255.255\n",
      "!\n",
      "interface MgmtEth0/RSP0/CPU0/0\n",
      " vrf mgmt\n",
      " ipv4 address 10.71.234.145 255.255.252.0\n",
      "!\n",
      "interface TenGigE0/3/0/0\n",
      " description IXIA04/01\n",
      "!\n",
      "interface HundredGigE0/1/0/0\n",
      " description oteIXN001\n",
      " bundle id 13 mode active\n",
      " lacp period short\n",
      " carrier-delay up 2000 down 0\n",
      " dampening 1 750 2000 5 20000\n",
      "!\n",
      "interface HundredGigE0/1/0/1\n",
      " description oteIXN001\n",
      " bundle id 13 mode active\n",
      " lacp period short\n",
      " carrier-delay up 2000 down 0\n",
      " dampening 1 750 2000 5 20000\n",
      "!\n",
      "route-policy PERMIT\n",
      "  pass\n",
      "end-policy\n",
      "!\n",
      "router static\n",
      " vrf mgmt\n",
      "  address-family ipv4 unicast\n",
      "   0.0.0.0/0 10.71.232.254\n",
      "  !\n",
      " !\n",
      "!\n",
      "router bgp 15169\n",
      " nsr disable\n",
      " bgp graceful-restart\n",
      " bgp bestpath med always\n",
      " address-family ipv4 unicast\n",
      "  maximum-paths ibgp 2\n",
      " !\n",
      " address-family ipv6 unicast\n",
      "  maximum-paths ibgp 2\n",
      " !\n",
      " neighbor 72.14.208.178\n",
      "  remote-as 2516\n",
      "  description oteIXN001\n",
      "  address-family ipv4 unicast\n",
      "   route-policy PERMIT in\n",
      "   maximum-prefix 1000000 75 warning-only\n",
      "   route-policy PERMIT out\n",
      "   soft-reconfiguration inbound always\n",
      "  !\n",
      " !\n",
      " neighbor 2001:4860:1:1:0:1:0:b5\n",
      "  remote-as 2516\n",
      "  description oteIXN001\n",
      "  address-family ipv6 unicast\n",
      "   route-policy PERMIT in\n",
      "   route-policy PERMIT out\n",
      "   soft-reconfiguration inbound always\n",
      "  !\n",
      " !\n",
      "!\n",
      "end\n",
      "\n",
      "################################################################################################\n",
      "configure terminal\n",
      "\n",
      "Fri Oct  1 15:19:19.882 JST\n",
      "RP/0/RSP0/CPU0:Google(config)#no logging console informational\n",
      "\n",
      "RP/0/RSP0/CPU0:Google(config)#end\n",
      "\n",
      "Uncommitted changes found, commit them before exiting(yes/no/cancel)? [cancel]:no\n",
      "\n",
      "RP/0/RSP0/CPU0:Oct  1 15:19:20.345 JST: config[65783]: %MGBL-SYS-5-CONFIG_I : Configured from console by ciscocore on vty0 (10.70.231.105) \n",
      "RP/0/RSP0/CPU0:Google#\n",
      "################################################################################################\n",
      "Fri Oct  1 15:19:20.687 JST\n",
      "Building configuration...\n",
      "logging console informational\n"
     ]
    }
   ],
   "source": [
    "output = net_connect.send_command('show run')\n",
    "print(output)\n",
    "print('################################################################################################')\n",
    "\n",
    "output = net_connect.send_config_set(['no logging console informational'],['commit'])\n",
    "print(output)\n",
    "print('################################################################################################')\n",
    "\n",
    "output = net_connect.send_command('show run | i logging console')\n",
    "print(output)"
   ]
  },
  {
   "cell_type": "code",
   "execution_count": null,
   "metadata": {},
   "outputs": [],
   "source": []
  },
  {
   "cell_type": "code",
   "execution_count": null,
   "metadata": {},
   "outputs": [],
   "source": []
  },
  {
   "cell_type": "code",
   "execution_count": null,
   "metadata": {},
   "outputs": [],
   "source": []
  }
 ],
 "metadata": {
  "kernelspec": {
   "display_name": "Python 3",
   "language": "python",
   "name": "python3"
  },
  "language_info": {
   "codemirror_mode": {
    "name": "ipython",
    "version": 3
   },
   "file_extension": ".py",
   "mimetype": "text/x-python",
   "name": "python",
   "nbconvert_exporter": "python",
   "pygments_lexer": "ipython3",
   "version": "3.7.3"
  }
 },
 "nbformat": 4,
 "nbformat_minor": 2
}
