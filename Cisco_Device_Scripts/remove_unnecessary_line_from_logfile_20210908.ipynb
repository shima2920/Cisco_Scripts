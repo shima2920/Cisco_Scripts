{
 "cells": [
  {
   "cell_type": "code",
   "execution_count": 1,
   "metadata": {},
   "outputs": [],
   "source": [
    "import pathlib\n",
    "from pathlib import Path\n",
    "import re\n",
    "import os\n",
    "\n",
    "\n",
    "def remove_something(text):\n",
    "    r = re.sub('.*Oct .*JST', ' ', text)\n",
    "    r = re.sub('Installed Sep.*\\S+.', ' ', r)\n",
    "    r = re.sub('Installed Oct.*\\S+.', ' ', r)\n",
    "    r = re.sub('Last Modified: Sep.*\\S+.', ' ', r)\n",
    "    r = re.sub('Last Modified: Oct.*\\S+.', ' ', r)\n",
    "    r = re.sub('  Path #.*.', ' ', r)\n",
    "    #r = re.sub('RP/0/RP1/CPU0:tmfMAN007_tysA9922-01#', '####PROMPT####', r)\n",
    "    #r = re.sub('RP/0/RP0/CPU0:tmfMAN007_tysA9922-01#', '####PROMPT####', r)\n",
    "    r = re.sub('      Received Path ID.*', '', r)\n",
    "    r = re.sub('  Speaker.*', '', r)\n",
    "    #r = re.sub(r'BGP neighbor version.*', ' ', r)\n",
    "    #r = re.sub(r'Last ack version.*\\S+.', ' ', r)\n",
    "    #r = re.sub(r'Prefix advertised.*.', ' ', r)\n",
    "    #r = re.sub(r'Last read.*\\S+.', ' ', r)\n",
    "    #r = re.sub(r'Last write.*\\S+.', ' ', r)\n",
    "    #r = re.sub(r'Second last write.*\\S+.', ' ', r)\n",
    "    #r = re.sub(r'Last write pulse.*\\S+.', ' ', r)\n",
    "    #r = re.sub(r'xmt paks: .*\\S+.', ' ', r)\n",
    "    #r = re.sub(r'Received .*\\S+.', ' ', r)\n",
    "    #r = re.sub(r'Sent .*\\S+.', ' ', r)\n",
    "    #r = re.sub(r'Last reset .*', ' ', r)\n",
    "    #r = re.sub(r'Time since last notification received from neighbor:.*', ' ', r)\n",
    "    #r = re.sub(r'Last KA expiry before reset.*', ' ', r)\n",
    "    return r\n"
   ]
  },
  {
   "cell_type": "code",
   "execution_count": 2,
   "metadata": {},
   "outputs": [],
   "source": [
    "#Specify the target file name||\n",
    "target_filenames = ['11-04-04~05_saisiken','07-03-01','07-03-02']\n"
   ]
  },
  {
   "cell_type": "code",
   "execution_count": 8,
   "metadata": {
    "scrolled": true
   },
   "outputs": [
    {
     "name": "stdout",
     "output_type": "stream",
     "text": [
      "   \n",
      "=========   C:\\Users\\yshimamu\\Cisco\\KDDI-AS - FY21 Core\\11. TA管理\\20210906_ATRVup検証支援\\お客様資料\\ATRVup検証\\大阪MANログ確認\\11-04-04~05_saisiken\\03.途中ログ\\show    =========\n",
      "   \n",
      "!!!!!Complete!!!!!    obpMAN001_tysA9001-02_show_20211020-182240.log\n",
      "!!!!!Complete!!!!!    obpMAN007_tysA9006-05_show_20211020-182237.log\n",
      "!!!!!Complete!!!!!    obpMAN008_tysA9006-06_show_20211020-182239.log\n",
      "!!!!!Complete!!!!!    tmfMAN008_tysA9006-04_show_20211020-182226.log\n",
      "   \n",
      "=========   C:\\Users\\yshimamu\\Cisco\\KDDI-AS - FY21 Core\\11. TA管理\\20210906_ATRVup検証支援\\お客様資料\\ATRVup検証\\大阪MANログ確認\\07-03-01\\03.途中ログ\\show    =========\n",
      "   \n"
     ]
    },
    {
     "ename": "FileNotFoundError",
     "evalue": "[WinError 3] 指定されたパスが見つかりません。: 'C:\\\\Users\\\\yshimamu\\\\Cisco\\\\KDDI-AS - FY21 Core\\\\11. TA管理\\\\20210906_ATRVup検証支援\\\\お客様資料\\\\ATRVup検証\\\\大阪MANログ確認\\\\07-03-01\\\\03.途中ログ\\\\show\\\\remove_ver'",
     "output_type": "error",
     "traceback": [
      "\u001b[1;31m---------------------------------------------------------------------------\u001b[0m",
      "\u001b[1;31mFileNotFoundError\u001b[0m                         Traceback (most recent call last)",
      "\u001b[1;32m<ipython-input-8-d1bd8c139d9b>\u001b[0m in \u001b[0;36m<module>\u001b[1;34m\u001b[0m\n\u001b[0;32m     18\u001b[0m     \u001b[1;31m#print(filename)\u001b[0m\u001b[1;33m\u001b[0m\u001b[1;33m\u001b[0m\u001b[1;33m\u001b[0m\u001b[0m\n\u001b[0;32m     19\u001b[0m \u001b[1;33m\u001b[0m\u001b[0m\n\u001b[1;32m---> 20\u001b[1;33m     \u001b[0mos\u001b[0m\u001b[1;33m.\u001b[0m\u001b[0mmkdir\u001b[0m\u001b[1;33m(\u001b[0m\u001b[0mtarget_url\u001b[0m \u001b[1;33m+\u001b[0m \u001b[1;34m\"\\\\remove_ver\"\u001b[0m\u001b[1;33m)\u001b[0m\u001b[1;33m\u001b[0m\u001b[1;33m\u001b[0m\u001b[0m\n\u001b[0m\u001b[0;32m     21\u001b[0m     \u001b[1;32mfor\u001b[0m \u001b[0mfile\u001b[0m \u001b[1;32min\u001b[0m \u001b[0mfilename\u001b[0m\u001b[1;33m:\u001b[0m\u001b[1;33m\u001b[0m\u001b[1;33m\u001b[0m\u001b[0m\n\u001b[0;32m     22\u001b[0m         \u001b[0mi\u001b[0m \u001b[1;33m=\u001b[0m \u001b[1;36m0\u001b[0m\u001b[1;33m\u001b[0m\u001b[1;33m\u001b[0m\u001b[0m\n",
      "\u001b[1;31mFileNotFoundError\u001b[0m: [WinError 3] 指定されたパスが見つかりません。: 'C:\\\\Users\\\\yshimamu\\\\Cisco\\\\KDDI-AS - FY21 Core\\\\11. TA管理\\\\20210906_ATRVup検証支援\\\\お客様資料\\\\ATRVup検証\\\\大阪MANログ確認\\\\07-03-01\\\\03.途中ログ\\\\show\\\\remove_ver'"
     ]
    }
   ],
   "source": [
    "\n",
    "for target_filename in target_filenames:\n",
    "    target_url = \"C:\\\\Users\\\\yshimamu\\\\Cisco\\\\KDDI-AS - FY21 Core\\\\11. TA管理\\\\20210906_ATRVup検証支援\\\\お客様資料\\\\ATRVup検証\\\\大阪MANログ確認\\\\\" + target_filename + \"\\\\03.途中ログ\\\\show\"\n",
    "    print(\"   \")\n",
    "    print(\"=========   \" + target_url + \"    =========\")\n",
    "    print(\"   \")\n",
    "    file_names = pathlib.Path(target_url).glob('*.log')\n",
    "    filename = []\n",
    "    for p in file_names:\n",
    "        filename.append(p.name)\n",
    "        \n",
    "    filename_MAN = []\n",
    "    \n",
    "    for file_MAN in filename:\n",
    "        if 'MAN' in file_MAN:\n",
    "            filename_MAN.append(file_MAN)\n",
    "    \n",
    "    filename = filename_MAN\n",
    "    #print(filename)\n",
    "    \n",
    "    os.mkdir(target_url + \"\\\\remove_ver\")\n",
    "    for file in filename:\n",
    "        i = 0\n",
    "        p = Path(target_url + \"\\\\\" + file)\n",
    "        config = p.read_text()\n",
    "        new_config = remove_something(config)\n",
    "        #print(target_url + '\\\\remove_ver\\\\' + file)\n",
    "        new_filepath = target_url + '\\\\remove_ver\\\\' + file\n",
    "        with open(new_filepath, 'w') as f:\n",
    "            f.write(new_config)\n",
    "            i = 0 + 1\n",
    "            print('!!!!!Complete!!!!!    ' + file)\n",
    "\n",
    "\n",
    "print(\"   \") \n",
    "print(\"   \")            \n",
    "print(\"   \")\n",
    "print('★★★★★★★★ All done!!!! ★★★★★★★★' )\n",
    "print(\"   \")\n",
    "print(\"   \")            \n",
    "print(\"   \")\n",
    "    \n"
   ]
  },
  {
   "cell_type": "code",
   "execution_count": null,
   "metadata": {},
   "outputs": [],
   "source": []
  },
  {
   "cell_type": "code",
   "execution_count": null,
   "metadata": {},
   "outputs": [],
   "source": []
  },
  {
   "cell_type": "code",
   "execution_count": null,
   "metadata": {},
   "outputs": [],
   "source": []
  },
  {
   "cell_type": "code",
   "execution_count": null,
   "metadata": {},
   "outputs": [],
   "source": []
  }
 ],
 "metadata": {
  "kernelspec": {
   "display_name": "Python 3",
   "language": "python",
   "name": "python3"
  },
  "language_info": {
   "codemirror_mode": {
    "name": "ipython",
    "version": 3
   },
   "file_extension": ".py",
   "mimetype": "text/x-python",
   "name": "python",
   "nbconvert_exporter": "python",
   "pygments_lexer": "ipython3",
   "version": "3.7.3"
  }
 },
 "nbformat": 4,
 "nbformat_minor": 2
}
