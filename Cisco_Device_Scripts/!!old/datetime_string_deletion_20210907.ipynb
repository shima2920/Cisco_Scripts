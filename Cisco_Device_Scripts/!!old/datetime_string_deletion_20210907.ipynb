{
 "cells": [
  {
   "cell_type": "code",
   "execution_count": 1094,
   "metadata": {},
   "outputs": [],
   "source": [
    "target_dir =r'C:\\Users\\yshimamu\\Cisco\\KDDI-AS - FY21 Core\\11. TA管理\\20210906_ATRVup検証支援\\お客様資料\\ATRVup検証\\検証ログ\\11-03-02\\02.事後ログ\\show'"
   ]
  },
  {
   "cell_type": "code",
   "execution_count": 1103,
   "metadata": {},
   "outputs": [
    {
     "name": "stdout",
     "output_type": "stream",
     "text": [
      "<generator object Path.glob at 0x000001BDEDF0C0C0>\n"
     ]
    }
   ],
   "source": [
    "import pathlib\n",
    "\n",
    "file_names = pathlib.Path(target_dir).glob('*.log')\n",
    "#print(file_names)\n",
    "filename = []\n",
    "for p in file_names:\n",
    "    filename.append(p.name)"
   ]
  },
  {
   "cell_type": "code",
   "execution_count": 1096,
   "metadata": {},
   "outputs": [],
   "source": [
    "filename_MAN = []\n",
    "\n",
    "for file_MAN in filename:\n",
    "    #print(file_MAN)\n",
    "    if 'MAN' in file_MAN:\n",
    "        filename_MAN.append(file_MAN)\n",
    "        #print(file_MAN)"
   ]
  },
  {
   "cell_type": "code",
   "execution_count": 1097,
   "metadata": {},
   "outputs": [],
   "source": [
    "filename = filename_MAN"
   ]
  },
  {
   "cell_type": "code",
   "execution_count": 1098,
   "metadata": {},
   "outputs": [
    {
     "data": {
      "text/plain": [
       "['obpMAN001_tysA9001-02_show_20210907-172948.log',\n",
       " 'obpMAN007_tysA9006-05_show_20210907-172946.log',\n",
       " 'obpMAN008_tysA9006-06_show_20210907-172950.log',\n",
       " 'tmfMAN007_tysA9922-01_show_20210907-172931.log',\n",
       " 'tmfMAN008_tysA9006-04_show_20210907-172931.log']"
      ]
     },
     "execution_count": 1098,
     "metadata": {},
     "output_type": "execute_result"
    }
   ],
   "source": [
    "filename"
   ]
  },
  {
   "cell_type": "code",
   "execution_count": 1099,
   "metadata": {},
   "outputs": [],
   "source": [
    "from pathlib import Path\n",
    "import re\n",
    "import os"
   ]
  },
  {
   "cell_type": "code",
   "execution_count": 1100,
   "metadata": {},
   "outputs": [
    {
     "data": {
      "text/plain": [
       "\"\\ndef remove_datetime(text):\\n    datetime = re.compile(r'Fri Sep .*\\\\S+.')\\n    return datetime.sub(r'',text)\\n\""
      ]
     },
     "execution_count": 1100,
     "metadata": {},
     "output_type": "execute_result"
    }
   ],
   "source": [
    "'''\n",
    "def remove_datetime(text):\n",
    "    datetime = re.compile(r'Fri Sep .*\\S+.')\n",
    "    return datetime.sub(r'',text)\n",
    "'''"
   ]
  },
  {
   "cell_type": "code",
   "execution_count": 1101,
   "metadata": {},
   "outputs": [],
   "source": [
    "def remove_something(text):\n",
    "    r = re.sub('.*Sep .*JST', ' ', text)\n",
    "    r = re.sub('Installed Sep.*\\S+.', ' ', r)\n",
    "    r = re.sub('Last Modified: Sep.*\\S+.', ' ', r)\n",
    "    #r = re.sub(r'BGP neighbor version.*', ' ', r)\n",
    "    #r = re.sub(r'Last ack version.*\\S+.', ' ', r)\n",
    "    #r = re.sub(r'Prefix advertised.*.', ' ', r)\n",
    "    #r = re.sub(r'Last read.*\\S+.', ' ', r)\n",
    "    #r = re.sub(r'Last write.*\\S+.', ' ', r)\n",
    "    #r = re.sub(r'Second last write.*\\S+.', ' ', r)\n",
    "    #r = re.sub(r'Last write pulse.*\\S+.', ' ', r)\n",
    "    #r = re.sub(r'xmt paks: .*\\S+.', ' ', r)\n",
    "    #r = re.sub(r'Received .*\\S+.', ' ', r)\n",
    "    #r = re.sub(r'Sent .*\\S+.', ' ', r)\n",
    "    #r = re.sub(r'Last reset .*', ' ', r)\n",
    "    #r = re.sub(r'Time since last notification received from neighbor:.*', ' ', r)\n",
    "    #r = re.sub(r'Last KA expiry before reset.*', ' ', r)\n",
    "     \n",
    "    return r"
   ]
  },
  {
   "cell_type": "code",
   "execution_count": 1102,
   "metadata": {},
   "outputs": [
    {
     "name": "stdout",
     "output_type": "stream",
     "text": [
      "C:\\Users\\yshimamu\\Cisco\\KDDI-AS - FY21 Core\\11. TA管理\\20210906_ATRVup検証支援\\お客様資料\\ATRVup検証\\検証ログ\\11-03-02\\02.事後ログ\\show\\remove_ver\\obpMAN001_tysA9001-02_show_20210907-172948.log\n",
      "!!!!!Complete!!!!!    obpMAN001_tysA9001-02_show_20210907-172948.log\n",
      "C:\\Users\\yshimamu\\Cisco\\KDDI-AS - FY21 Core\\11. TA管理\\20210906_ATRVup検証支援\\お客様資料\\ATRVup検証\\検証ログ\\11-03-02\\02.事後ログ\\show\\remove_ver\\obpMAN007_tysA9006-05_show_20210907-172946.log\n",
      "!!!!!Complete!!!!!    obpMAN007_tysA9006-05_show_20210907-172946.log\n",
      "C:\\Users\\yshimamu\\Cisco\\KDDI-AS - FY21 Core\\11. TA管理\\20210906_ATRVup検証支援\\お客様資料\\ATRVup検証\\検証ログ\\11-03-02\\02.事後ログ\\show\\remove_ver\\obpMAN008_tysA9006-06_show_20210907-172950.log\n",
      "!!!!!Complete!!!!!    obpMAN008_tysA9006-06_show_20210907-172950.log\n",
      "C:\\Users\\yshimamu\\Cisco\\KDDI-AS - FY21 Core\\11. TA管理\\20210906_ATRVup検証支援\\お客様資料\\ATRVup検証\\検証ログ\\11-03-02\\02.事後ログ\\show\\remove_ver\\tmfMAN007_tysA9922-01_show_20210907-172931.log\n",
      "!!!!!Complete!!!!!    tmfMAN007_tysA9922-01_show_20210907-172931.log\n",
      "C:\\Users\\yshimamu\\Cisco\\KDDI-AS - FY21 Core\\11. TA管理\\20210906_ATRVup検証支援\\お客様資料\\ATRVup検証\\検証ログ\\11-03-02\\02.事後ログ\\show\\remove_ver\\tmfMAN008_tysA9006-04_show_20210907-172931.log\n",
      "!!!!!Complete!!!!!    tmfMAN008_tysA9006-04_show_20210907-172931.log\n"
     ]
    }
   ],
   "source": [
    "os.mkdir(target_dir + \"\\\\remove_ver\")\n",
    "\n",
    "for file in filename:\n",
    "    i = 0\n",
    "    p = Path(target_dir + \"\\\\\" + file)\n",
    "    config = p.read_text()\n",
    "    #new_config = remove_datetime(config)\n",
    "    new_config = remove_something(config)\n",
    "    print(target_dir + '\\\\remove_ver\\\\' + file)\n",
    "    new_filepath = target_dir + '\\\\remove_ver\\\\' + file\n",
    "    with open(new_filepath, 'w') as f:\n",
    "        f.write(new_config)\n",
    "    i = 0 + 1\n",
    "    print('!!!!!Complete!!!!!    ' + file)"
   ]
  },
  {
   "cell_type": "code",
   "execution_count": null,
   "metadata": {},
   "outputs": [],
   "source": []
  },
  {
   "cell_type": "code",
   "execution_count": null,
   "metadata": {},
   "outputs": [],
   "source": []
  },
  {
   "cell_type": "code",
   "execution_count": null,
   "metadata": {},
   "outputs": [],
   "source": []
  },
  {
   "cell_type": "code",
   "execution_count": null,
   "metadata": {},
   "outputs": [],
   "source": []
  }
 ],
 "metadata": {
  "kernelspec": {
   "display_name": "Python 3",
   "language": "python",
   "name": "python3"
  },
  "language_info": {
   "codemirror_mode": {
    "name": "ipython",
    "version": 3
   },
   "file_extension": ".py",
   "mimetype": "text/x-python",
   "name": "python",
   "nbconvert_exporter": "python",
   "pygments_lexer": "ipython3",
   "version": "3.7.3"
  }
 },
 "nbformat": 4,
 "nbformat_minor": 2
}
